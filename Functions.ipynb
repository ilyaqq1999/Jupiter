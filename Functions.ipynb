{
 "cells": [
  {
   "cell_type": "markdown",
   "metadata": {},
   "source": [
    "# Функции в Python\n",
    "\n",
    "\n",
    "Синтаксис\n",
    "\n",
    "def ИМЯ_ФУНКЦИИ(параметры): \n",
    "\n",
    "    выражение № 1 \n",
    "    \n",
    "    выражение № 2 ... \n",
    "\n",
    "\n",
    "Вызов:\n",
    "\n",
    "ИМЯ_ФУНКЦИИ(параметры) "
   ]
  },
  {
   "cell_type": "code",
   "execution_count": 2,
   "metadata": {},
   "outputs": [
    {
     "name": "stdout",
     "output_type": "stream",
     "text": [
      "5\n",
      "5\n"
     ]
    }
   ],
   "source": [
    "def func(a):\n",
    "    print(a)\n",
    "    a += 1\n",
    "\n",
    "a = 5\n",
    "func(a)\n",
    "print(a)"
   ]
  },
  {
   "cell_type": "code",
   "execution_count": 3,
   "metadata": {},
   "outputs": [
    {
     "name": "stdout",
     "output_type": "stream",
     "text": [
      "5\n",
      "6\n"
     ]
    }
   ],
   "source": [
    "def func(a):\n",
    "    print(a)\n",
    "    a += 1\n",
    "    return a\n",
    "\n",
    "a = 5\n",
    "print(func(a))"
   ]
  },
  {
   "cell_type": "code",
   "execution_count": 4,
   "metadata": {},
   "outputs": [
    {
     "name": "stdout",
     "output_type": "stream",
     "text": [
      "5 5.0\n",
      "6 4.0\n",
      "6 4.0\n",
      "(7, 3.0)\n",
      "6 4.0\n"
     ]
    }
   ],
   "source": [
    "def func(a, b):\n",
    "    print(a, b)\n",
    "    a += 1\n",
    "    b -= 1\n",
    "    return a, b\n",
    "\n",
    "a = 5\n",
    "b = 5.0\n",
    "a, b = func(a, b)\n",
    "print(a, b)\n",
    "print(func(a, b))\n",
    "print(a, b)"
   ]
  },
  {
   "cell_type": "code",
   "execution_count": 5,
   "metadata": {},
   "outputs": [
    {
     "name": "stdout",
     "output_type": "stream",
     "text": [
      "10\n",
      "10\n"
     ]
    }
   ],
   "source": [
    "def divide(delimoe, delitel): \n",
    "    return delimoe // delitel \n",
    "\n",
    "print(divide(50, 5))\n",
    "print(divide(delitel = 5, delimoe = 50)) "
   ]
  },
  {
   "cell_type": "code",
   "execution_count": 7,
   "metadata": {},
   "outputs": [
    {
     "name": "stdout",
     "output_type": "stream",
     "text": [
      "positive\n",
      "5\n"
     ]
    }
   ],
   "source": [
    "def example(a):\n",
    "    if a>0:\n",
    "        return \"positive\"\n",
    "    else:\n",
    "        a =- a\n",
    "        return a\n",
    "        \n",
    "print(example(5))\n",
    "print(example(-5))"
   ]
  },
  {
   "cell_type": "code",
   "execution_count": 10,
   "metadata": {},
   "outputs": [
    {
     "name": "stdout",
     "output_type": "stream",
     "text": [
      "1024\n",
      "4149515568880992958512407863691161151012446232242436899995657329690652811412908146399707048947103794288197886611300789182395151075411775307886874834113963687061181803401509523685376\n",
      "114813069527425452423283320117768198402231770208869520047764273682576626139237031385665948631650626991844596463898746277344711896086305533142593135616665318539129989145312280000688779148240044871428926990063486244781615463646388363947317026040466353970904996558162398808944629605623311649536164221970332681344168908984458505602379484807914058900934776500429002716706625830522008132236281291761267883317206598995396418127021779858404042159853183251540889433902091920554957783589672039160081957216630582755380425583726015528348786419432054508915275783882625175435528800822842770817965453762184851149029376\n"
     ]
    }
   ],
   "source": [
    "def rec(a, b):\n",
    "    if b > 1:\n",
    "        return a * rec(a, b - 1)\n",
    "    else:\n",
    "        return a\n",
    "\n",
    "print(rec(2, 10))\n",
    "print(rec(2, 600))\n",
    "print(rec(2, 2000))"
   ]
  },
  {
   "cell_type": "code",
   "execution_count": null,
   "metadata": {},
   "outputs": [],
   "source": []
  }
 ],
 "metadata": {
  "kernelspec": {
   "display_name": "Python 3",
   "language": "python",
   "name": "python3"
  },
  "language_info": {
   "codemirror_mode": {
    "name": "ipython",
    "version": 3
   },
   "file_extension": ".py",
   "mimetype": "text/x-python",
   "name": "python",
   "nbconvert_exporter": "python",
   "pygments_lexer": "ipython3",
   "version": "3.8.8"
  }
 },
 "nbformat": 4,
 "nbformat_minor": 2
}
